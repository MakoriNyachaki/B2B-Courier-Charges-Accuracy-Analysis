{
 "cells": [
  {
   "cell_type": "code",
   "execution_count": 2,
   "id": "d55f2f3d-5356-459b-9470-65a8466013cf",
   "metadata": {},
   "outputs": [],
   "source": [
    "# Import important libraries\n",
    "\n",
    "import pandas as pd\n",
    "\n",
    "#Read reports\n",
    "orderReport = pd.read_csv('Order Report.csv')\n",
    "skuMaster = pd.read_csv('SKU Master.csv')\n",
    "pinCode = pd.read_csv('pincodes.csv')\n",
    "invoice = pd.read_csv('Invoice.csv')\n",
    "courierRates = pd.read_csv('Courier Company - Rates.csv')"
   ]
  },
  {
   "cell_type": "code",
   "execution_count": 5,
   "id": "54ccf874-1dc0-49cc-a539-e432e3bb2f77",
   "metadata": {},
   "outputs": [
    {
     "name": "stdout",
     "output_type": "stream",
     "text": [
      "Order Report\n",
      "\n",
      "    ExternOrderNo            SKU  Order Qty  Unnamed: 3  Unnamed: 4\n",
      "0     2001827036  8904223818706        1.0         NaN         NaN\n",
      "1     2001827036  8904223819093        1.0         NaN         NaN\n",
      "2     2001827036  8904223819109        1.0         NaN         NaN\n",
      "3     2001827036  8904223818430        1.0         NaN         NaN\n",
      "4     2001827036  8904223819277        1.0         NaN         NaN\n",
      "SKU Master \n",
      "\n",
      "              SKU  Weight (g)  Unnamed: 2  Unnamed: 3  Unnamed: 4\n",
      "0  8904223815682         210         NaN         NaN         NaN\n",
      "1  8904223815859         165         NaN         NaN         NaN\n",
      "2  8904223815866         113         NaN         NaN         NaN\n",
      "3  8904223815873          65         NaN         NaN         NaN\n",
      "4  8904223816214         120         NaN         NaN         NaN\n",
      "Pin Codes Mapping\n",
      "\n",
      "    Warehouse Pincode  Customer Pincode Zone  Unnamed: 3  Unnamed: 4\n",
      "0             121003            507101    d         NaN         NaN\n",
      "1             121003            486886    d         NaN         NaN\n",
      "2             121003            532484    d         NaN         NaN\n",
      "3             121003            143001    b         NaN         NaN\n",
      "4             121003            515591    d         NaN         NaN\n",
      "Invoices\n",
      "\n",
      "         AWB Code    Order ID  Charged Weight  Warehouse Pincode  \\\n",
      "0  1091117222124  2001806232            1.30             121003   \n",
      "1  1091117222194  2001806273            1.00             121003   \n",
      "2  1091117222931  2001806408            2.50             121003   \n",
      "3  1091117223244  2001806458            1.00             121003   \n",
      "4  1091117229345  2001807012            0.15             121003   \n",
      "\n",
      "   Customer Pincode Zone Type of Shipment  Billing Amount (Rs.)  \n",
      "0            507101    d  Forward charges                 135.0  \n",
      "1            486886    d  Forward charges                  90.2  \n",
      "2            532484    d  Forward charges                 224.6  \n",
      "3            143001    b  Forward charges                  61.3  \n",
      "4            515591    d  Forward charges                  45.4  \n",
      "Courier Rates\n",
      "\n",
      "    fwd_a_fixed  fwd_a_additional  fwd_b_fixed  fwd_b_additional  fwd_c_fixed  \\\n",
      "0         29.5              23.6           33              28.3         40.1   \n",
      "\n",
      "   fwd_c_additional  fwd_d_fixed  fwd_d_additional  fwd_e_fixed  \\\n",
      "0              38.9         45.4              44.8         56.6   \n",
      "\n",
      "   fwd_e_additional  rto_a_fixed  rto_a_additional  rto_b_fixed  \\\n",
      "0              55.5         13.6              23.6         20.5   \n",
      "\n",
      "   rto_b_additional  rto_c_fixed  rto_c_additional  rto_d_fixed  \\\n",
      "0              28.3         31.9              38.9         41.3   \n",
      "\n",
      "   rto_d_additional  rto_e_fixed  rto_e_additional  \n",
      "0              44.8         50.7              55.5  \n"
     ]
    }
   ],
   "source": [
    "# View part of the reports\n",
    "\n",
    "print(\"Order Report\\n\\n\", orderReport.head())\n",
    "print(\"SKU Master \\n\\n\", skuMaster.head())\n",
    "print(\"Pin Codes Mapping\\n\\n\", pinCode.head())\n",
    "print(\"Invoices\\n\\n\", invoice.head())\n",
    "print(\"Courier Rates\\n\\n\", courierRates.head())"
   ]
  },
  {
   "cell_type": "code",
   "execution_count": null,
   "id": "a57417a6-3bb6-43f4-8f65-a3ed19d70723",
   "metadata": {},
   "outputs": [],
   "source": []
  }
 ],
 "metadata": {
  "kernelspec": {
   "display_name": "Python 3 (ipykernel)",
   "language": "python",
   "name": "python3"
  },
  "language_info": {
   "codemirror_mode": {
    "name": "ipython",
    "version": 3
   },
   "file_extension": ".py",
   "mimetype": "text/x-python",
   "name": "python",
   "nbconvert_exporter": "python",
   "pygments_lexer": "ipython3",
   "version": "3.12.3"
  }
 },
 "nbformat": 4,
 "nbformat_minor": 5
}
