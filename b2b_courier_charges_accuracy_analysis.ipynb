{
 "cells": [
  {
   "cell_type": "markdown",
   "id": "aa792c39-b4f7-46cf-bdaa-019ca06f8ca6",
   "metadata": {},
   "source": [
    "#### Import important libraries"
   ]
  },
  {
   "cell_type": "code",
   "execution_count": 12,
   "id": "43e2767e-fe0d-4a64-af38-67732b6f68da",
   "metadata": {},
   "outputs": [],
   "source": [
    "# Import important libraries\n",
    "\n",
    "import pandas as pd\n",
    "\n",
    "#Read reports\n",
    "orderReport = pd.read_csv('Order Report.csv')\n",
    "skuMaster = pd.read_csv('SKU Master.csv')\n",
    "pinCode = pd.read_csv('pincodes.csv')\n",
    "invoice = pd.read_csv('Invoice.csv')\n",
    "courierRates = pd.read_csv('Courier Company - Rates.csv')"
   ]
  },
  {
   "cell_type": "markdown",
   "id": "1329ffdc-17f8-484a-8089-c7cc3e508b10",
   "metadata": {},
   "source": [
    "#### View  Dataset Reports"
   ]
  },
  {
   "cell_type": "code",
   "execution_count": 17,
   "id": "54ccf874-1dc0-49cc-a539-e432e3bb2f77",
   "metadata": {
    "collapsed": true,
    "jupyter": {
     "outputs_hidden": true
    },
    "scrolled": true
   },
   "outputs": [
    {
     "name": "stdout",
     "output_type": "stream",
     "text": [
      "\n",
      "\n",
      "Order Report\n",
      "\n",
      "    ExternOrderNo            SKU  Order Qty  Unnamed: 3  Unnamed: 4\n",
      "0     2001827036  8904223818706        1.0         NaN         NaN\n",
      "1     2001827036  8904223819093        1.0         NaN         NaN\n",
      "2     2001827036  8904223819109        1.0         NaN         NaN\n",
      "3     2001827036  8904223818430        1.0         NaN         NaN\n",
      "4     2001827036  8904223819277        1.0         NaN         NaN \n",
      "\n",
      "\n",
      "SKU Master\n",
      "\n",
      "              SKU  Weight (g)  Unnamed: 2  Unnamed: 3  Unnamed: 4\n",
      "0  8904223815682         210         NaN         NaN         NaN\n",
      "1  8904223815859         165         NaN         NaN         NaN\n",
      "2  8904223815866         113         NaN         NaN         NaN\n",
      "3  8904223815873          65         NaN         NaN         NaN\n",
      "4  8904223816214         120         NaN         NaN         NaN \n",
      "\n",
      "\n",
      "Pin Codes Mapping\n",
      "\n",
      "    Warehouse Pincode  Customer Pincode Zone  Unnamed: 3  Unnamed: 4\n",
      "0             121003            507101    d         NaN         NaN\n",
      "1             121003            486886    d         NaN         NaN\n",
      "2             121003            532484    d         NaN         NaN\n",
      "3             121003            143001    b         NaN         NaN\n",
      "4             121003            515591    d         NaN         NaN \n",
      "\n",
      "\n",
      "Invoices Report\n",
      "\n",
      "         AWB Code    Order ID  Charged Weight  Warehouse Pincode  \\\n",
      "0  1091117222124  2001806232            1.30             121003   \n",
      "1  1091117222194  2001806273            1.00             121003   \n",
      "2  1091117222931  2001806408            2.50             121003   \n",
      "3  1091117223244  2001806458            1.00             121003   \n",
      "4  1091117229345  2001807012            0.15             121003   \n",
      "\n",
      "   Customer Pincode Zone Type of Shipment  Billing Amount (Rs.)  \n",
      "0            507101    d  Forward charges                 135.0  \n",
      "1            486886    d  Forward charges                  90.2  \n",
      "2            532484    d  Forward charges                 224.6  \n",
      "3            143001    b  Forward charges                  61.3  \n",
      "4            515591    d  Forward charges                  45.4   \n",
      "\n",
      "\n",
      "Courier Rate Report\n",
      "\n",
      "    fwd_a_fixed  fwd_a_additional  fwd_b_fixed  fwd_b_additional  fwd_c_fixed  \\\n",
      "0         29.5              23.6           33              28.3         40.1   \n",
      "\n",
      "   fwd_c_additional  fwd_d_fixed  fwd_d_additional  fwd_e_fixed  \\\n",
      "0              38.9         45.4              44.8         56.6   \n",
      "\n",
      "   fwd_e_additional  rto_a_fixed  rto_a_additional  rto_b_fixed  \\\n",
      "0              55.5         13.6              23.6         20.5   \n",
      "\n",
      "   rto_b_additional  rto_c_fixed  rto_c_additional  rto_d_fixed  \\\n",
      "0              28.3         31.9              38.9         41.3   \n",
      "\n",
      "   rto_d_additional  rto_e_fixed  rto_e_additional  \n",
      "0              44.8         50.7              55.5   \n",
      "\n"
     ]
    }
   ],
   "source": [
    "# View part of the reports\n",
    "\n",
    "print(f\"\\n\\nOrder Report\\n\\n {orderReport.head()} \\n\")\n",
    "print(f\"\\nSKU Master\\n\\n {skuMaster.head()} \\n\")\n",
    "print(f\"\\nPin Codes Mapping\\n\\n {pinCode.head()} \\n\")\n",
    "print(f\"\\nInvoices Report\\n\\n {invoice.head()} \\n\")\n",
    "print(f\"\\nCourier Rate Report\\n\\n {courierRates.head()} \\n\")"
   ]
  },
  {
   "cell_type": "markdown",
   "id": "7240c12c-e721-4f02-9fd8-c6e2b1215c84",
   "metadata": {},
   "source": [
    "#### Look for Balnks or Missing Values"
   ]
  },
  {
   "cell_type": "code",
   "execution_count": 16,
   "id": "914ab034-6b2a-4ab1-8f4b-e104fb87be5f",
   "metadata": {
    "collapsed": true,
    "jupyter": {
     "outputs_hidden": true
    }
   },
   "outputs": [
    {
     "name": "stdout",
     "output_type": "stream",
     "text": [
      "\n",
      "Missing Values in the Website Order Report:\n",
      "\n",
      "ExternOrderNo      0\n",
      "SKU                0\n",
      "Order Qty          0\n",
      "Unnamed: 3       400\n",
      "Unnamed: 4       400\n",
      "dtype: int64 \n",
      "\n",
      "\n",
      "Missing Values in the Website SKU Master Report:\n",
      "\n",
      "SKU            0\n",
      "Weight (g)     0\n",
      "Unnamed: 2    66\n",
      "Unnamed: 3    66\n",
      "Unnamed: 4    66\n",
      "dtype: int64 \n",
      "\n",
      "\n",
      "Missing Values in the Website Invoices Report:\n",
      "\n",
      "AWB Code                0\n",
      "Order ID                0\n",
      "Charged Weight          0\n",
      "Warehouse Pincode       0\n",
      "Customer Pincode        0\n",
      "Zone                    0\n",
      "Type of Shipment        0\n",
      "Billing Amount (Rs.)    0\n",
      "dtype: int64 \n",
      "\n",
      "\n",
      "Missing Values in the Website Pincode Mapping Report:\n",
      "\n",
      "Warehouse Pincode      0\n",
      "Customer Pincode       0\n",
      "Zone                   0\n",
      "Unnamed: 3           124\n",
      "Unnamed: 4           124\n",
      "dtype: int64 \n",
      "\n",
      "\n",
      "Missing Values in the Website Courier Rates Report:\n",
      "\n",
      "fwd_a_fixed         0\n",
      "fwd_a_additional    0\n",
      "fwd_b_fixed         0\n",
      "fwd_b_additional    0\n",
      "fwd_c_fixed         0\n",
      "fwd_c_additional    0\n",
      "fwd_d_fixed         0\n",
      "fwd_d_additional    0\n",
      "fwd_e_fixed         0\n",
      "fwd_e_additional    0\n",
      "rto_a_fixed         0\n",
      "rto_a_additional    0\n",
      "rto_b_fixed         0\n",
      "rto_b_additional    0\n",
      "rto_c_fixed         0\n",
      "rto_c_additional    0\n",
      "rto_d_fixed         0\n",
      "rto_d_additional    0\n",
      "rto_e_fixed         0\n",
      "rto_e_additional    0\n",
      "dtype: int64 \n",
      "\n"
     ]
    }
   ],
   "source": [
    "# Look at the missing values\n",
    "print(f\"\\nMissing Values in the Website Order Report:\\n\\n{orderReport.isnull().sum()} \\n\")\n",
    "# Look at the missing values\n",
    "print(f\"\\nMissing Values in the Website SKU Master Report:\\n\\n{skuMaster.isnull().sum()} \\n\")\n",
    "# Look at the missing values\n",
    "print(f\"\\nMissing Values in the Website Invoices Report:\\n\\n{invoice.isnull().sum()} \\n\")\n",
    "# Look at the missing values\n",
    "print(f\"\\nMissing Values in the Website Pincode Mapping Report:\\n\\n{pinCode.isnull().sum()} \\n\")\n",
    "# Look at the missing values\n",
    "print(f\"\\nMissing Values in the Website Courier Rates Report:\\n\\n{courierRates.isnull().sum()} \\n\")"
   ]
  },
  {
   "cell_type": "code",
   "execution_count": null,
   "id": "08b9ddad-cfe2-46cc-bc2a-79e949b8ac92",
   "metadata": {},
   "outputs": [],
   "source": []
  }
 ],
 "metadata": {
  "kernelspec": {
   "display_name": "Python 3 (ipykernel)",
   "language": "python",
   "name": "python3"
  },
  "language_info": {
   "codemirror_mode": {
    "name": "ipython",
    "version": 3
   },
   "file_extension": ".py",
   "mimetype": "text/x-python",
   "name": "python",
   "nbconvert_exporter": "python",
   "pygments_lexer": "ipython3",
   "version": "3.12.3"
  }
 },
 "nbformat": 4,
 "nbformat_minor": 5
}
