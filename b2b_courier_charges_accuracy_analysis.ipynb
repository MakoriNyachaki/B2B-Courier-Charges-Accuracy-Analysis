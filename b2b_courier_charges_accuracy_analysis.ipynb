{
 "cells": [
  {
   "cell_type": "markdown",
   "id": "aa792c39-b4f7-46cf-bdaa-019ca06f8ca6",
   "metadata": {},
   "source": [
    "#### Import important libraries"
   ]
  },
  {
   "cell_type": "code",
   "execution_count": 2,
   "id": "43e2767e-fe0d-4a64-af38-67732b6f68da",
   "metadata": {},
   "outputs": [],
   "source": [
    "# Import important libraries\n",
    "\n",
    "import pandas as pd\n",
    "\n",
    "#Read reports\n",
    "orderReport = pd.read_csv('Order Report.csv')\n",
    "skuMaster = pd.read_csv('SKU Master.csv')\n",
    "pinCode = pd.read_csv('pincodes.csv')\n",
    "invoice = pd.read_csv('Invoice.csv')\n",
    "courierRates = pd.read_csv('Courier Company - Rates.csv')"
   ]
  },
  {
   "cell_type": "markdown",
   "id": "1329ffdc-17f8-484a-8089-c7cc3e508b10",
   "metadata": {},
   "source": [
    "#### View  Dataset Reports"
   ]
  },
  {
   "cell_type": "code",
   "execution_count": 3,
   "id": "54ccf874-1dc0-49cc-a539-e432e3bb2f77",
   "metadata": {
    "scrolled": true
   },
   "outputs": [
    {
     "name": "stdout",
     "output_type": "stream",
     "text": [
      "\n",
      "\n",
      "Order Report\n",
      "\n",
      "    ExternOrderNo            SKU  Order Qty  Unnamed: 3  Unnamed: 4\n",
      "0     2001827036  8904223818706        1.0         NaN         NaN\n",
      "1     2001827036  8904223819093        1.0         NaN         NaN\n",
      "2     2001827036  8904223819109        1.0         NaN         NaN\n",
      "3     2001827036  8904223818430        1.0         NaN         NaN\n",
      "4     2001827036  8904223819277        1.0         NaN         NaN \n",
      "\n",
      "\n",
      "SKU Master\n",
      "\n",
      "              SKU  Weight (g)  Unnamed: 2  Unnamed: 3  Unnamed: 4\n",
      "0  8904223815682         210         NaN         NaN         NaN\n",
      "1  8904223815859         165         NaN         NaN         NaN\n",
      "2  8904223815866         113         NaN         NaN         NaN\n",
      "3  8904223815873          65         NaN         NaN         NaN\n",
      "4  8904223816214         120         NaN         NaN         NaN \n",
      "\n",
      "\n",
      "Pin Codes Mapping\n",
      "\n",
      "    Warehouse Pincode  Customer Pincode Zone  Unnamed: 3  Unnamed: 4\n",
      "0             121003            507101    d         NaN         NaN\n",
      "1             121003            486886    d         NaN         NaN\n",
      "2             121003            532484    d         NaN         NaN\n",
      "3             121003            143001    b         NaN         NaN\n",
      "4             121003            515591    d         NaN         NaN \n",
      "\n",
      "\n",
      "Invoices Report\n",
      "\n",
      "         AWB Code    Order ID  Charged Weight  Warehouse Pincode  \\\n",
      "0  1091117222124  2001806232            1.30             121003   \n",
      "1  1091117222194  2001806273            1.00             121003   \n",
      "2  1091117222931  2001806408            2.50             121003   \n",
      "3  1091117223244  2001806458            1.00             121003   \n",
      "4  1091117229345  2001807012            0.15             121003   \n",
      "\n",
      "   Customer Pincode Zone Type of Shipment  Billing Amount (Rs.)  \n",
      "0            507101    d  Forward charges                 135.0  \n",
      "1            486886    d  Forward charges                  90.2  \n",
      "2            532484    d  Forward charges                 224.6  \n",
      "3            143001    b  Forward charges                  61.3  \n",
      "4            515591    d  Forward charges                  45.4   \n",
      "\n",
      "\n",
      "Courier Rate Report\n",
      "\n",
      "    fwd_a_fixed  fwd_a_additional  fwd_b_fixed  fwd_b_additional  fwd_c_fixed  \\\n",
      "0         29.5              23.6           33              28.3         40.1   \n",
      "\n",
      "   fwd_c_additional  fwd_d_fixed  fwd_d_additional  fwd_e_fixed  \\\n",
      "0              38.9         45.4              44.8         56.6   \n",
      "\n",
      "   fwd_e_additional  rto_a_fixed  rto_a_additional  rto_b_fixed  \\\n",
      "0              55.5         13.6              23.6         20.5   \n",
      "\n",
      "   rto_b_additional  rto_c_fixed  rto_c_additional  rto_d_fixed  \\\n",
      "0              28.3         31.9              38.9         41.3   \n",
      "\n",
      "   rto_d_additional  rto_e_fixed  rto_e_additional  \n",
      "0              44.8         50.7              55.5   \n",
      "\n"
     ]
    }
   ],
   "source": [
    "# View part of the reports\n",
    "\n",
    "print(f\"\\n\\nOrder Report\\n\\n {orderReport.head()} \\n\")\n",
    "print(f\"\\nSKU Master\\n\\n {skuMaster.head()} \\n\")\n",
    "print(f\"\\nPin Codes Mapping\\n\\n {pinCode.head()} \\n\")\n",
    "print(f\"\\nInvoices Report\\n\\n {invoice.head()} \\n\")\n",
    "print(f\"\\nCourier Rate Report\\n\\n {courierRates.head()} \\n\")"
   ]
  },
  {
   "cell_type": "markdown",
   "id": "7240c12c-e721-4f02-9fd8-c6e2b1215c84",
   "metadata": {},
   "source": [
    "#### Look for Blanks or Missing Values"
   ]
  },
  {
   "cell_type": "code",
   "execution_count": 4,
   "id": "914ab034-6b2a-4ab1-8f4b-e104fb87be5f",
   "metadata": {
    "scrolled": true
   },
   "outputs": [
    {
     "name": "stdout",
     "output_type": "stream",
     "text": [
      "\n",
      "Missing Values in the Website Order Report:\n",
      "\n",
      "ExternOrderNo      0\n",
      "SKU                0\n",
      "Order Qty          0\n",
      "Unnamed: 3       400\n",
      "Unnamed: 4       400\n",
      "dtype: int64 \n",
      "\n",
      "\n",
      "Missing Values in the Website SKU Master Report:\n",
      "\n",
      "SKU            0\n",
      "Weight (g)     0\n",
      "Unnamed: 2    66\n",
      "Unnamed: 3    66\n",
      "Unnamed: 4    66\n",
      "dtype: int64 \n",
      "\n",
      "\n",
      "Missing Values in the Website Invoices Report:\n",
      "\n",
      "AWB Code                0\n",
      "Order ID                0\n",
      "Charged Weight          0\n",
      "Warehouse Pincode       0\n",
      "Customer Pincode        0\n",
      "Zone                    0\n",
      "Type of Shipment        0\n",
      "Billing Amount (Rs.)    0\n",
      "dtype: int64 \n",
      "\n",
      "\n",
      "Missing Values in the Website Pincode Mapping Report:\n",
      "\n",
      "Warehouse Pincode      0\n",
      "Customer Pincode       0\n",
      "Zone                   0\n",
      "Unnamed: 3           124\n",
      "Unnamed: 4           124\n",
      "dtype: int64 \n",
      "\n",
      "\n",
      "Missing Values in the Website Courier Rates Report:\n",
      "\n",
      "fwd_a_fixed         0\n",
      "fwd_a_additional    0\n",
      "fwd_b_fixed         0\n",
      "fwd_b_additional    0\n",
      "fwd_c_fixed         0\n",
      "fwd_c_additional    0\n",
      "fwd_d_fixed         0\n",
      "fwd_d_additional    0\n",
      "fwd_e_fixed         0\n",
      "fwd_e_additional    0\n",
      "rto_a_fixed         0\n",
      "rto_a_additional    0\n",
      "rto_b_fixed         0\n",
      "rto_b_additional    0\n",
      "rto_c_fixed         0\n",
      "rto_c_additional    0\n",
      "rto_d_fixed         0\n",
      "rto_d_additional    0\n",
      "rto_e_fixed         0\n",
      "rto_e_additional    0\n",
      "dtype: int64 \n",
      "\n"
     ]
    }
   ],
   "source": [
    "# Look at the missing values\n",
    "print(f\"\\nMissing Values in the Website Order Report:\\n\\n{orderReport.isnull().sum()} \\n\")\n",
    "# Look at the missing values\n",
    "print(f\"\\nMissing Values in the Website SKU Master Report:\\n\\n{skuMaster.isnull().sum()} \\n\")\n",
    "# Look at the missing values\n",
    "print(f\"\\nMissing Values in the Website Invoices Report:\\n\\n{invoice.isnull().sum()} \\n\")\n",
    "# Look at the missing values\n",
    "print(f\"\\nMissing Values in the Website Pincode Mapping Report:\\n\\n{pinCode.isnull().sum()} \\n\")\n",
    "# Look at the missing values\n",
    "print(f\"\\nMissing Values in the Website Courier Rates Report:\\n\\n{courierRates.isnull().sum()} \\n\")"
   ]
  },
  {
   "cell_type": "markdown",
   "id": "0ea2887c-c824-4abc-b1ec-1c1110d30ccd",
   "metadata": {},
   "source": [
    "#### Data Cleaning"
   ]
  },
  {
   "cell_type": "code",
   "execution_count": 5,
   "id": "f9abbcb7-db9e-424f-94fc-00bba7bc0557",
   "metadata": {},
   "outputs": [],
   "source": [
    "# Get rid of unnamed columns from the SKU Master DataFrame\n",
    "orderReport = orderReport.drop(columns = ['Unnamed: 3', 'Unnamed: 4'])\n",
    "\n",
    "# Get rid of unnamed columns from the SKU Master DataFrame\n",
    "skuMaster = skuMaster.drop(columns = ['Unnamed: 2', 'Unnamed: 3', 'Unnamed: 4'])\n",
    "\n",
    "# Get rid of unnamed columns from the Pincode Mappping Datafram \n",
    "pinCode = pinCode.drop(columns = ['Unnamed: 3', 'Unnamed: 4'])                               "
   ]
  },
  {
   "cell_type": "markdown",
   "id": "cf1add4a-51e0-4776-b7b1-6696bc88845c",
   "metadata": {},
   "source": [
    "##### Data Merging"
   ]
  },
  {
   "cell_type": "code",
   "execution_count": 6,
   "id": "dc96b248-94df-4b55-b3b8-1141b3dbe204",
   "metadata": {},
   "outputs": [
    {
     "name": "stdout",
     "output_type": "stream",
     "text": [
      "   ExternOrderNo            SKU  Order Qty  Weight (g)\n",
      "0     2001827036  8904223818706        1.0         127\n",
      "1     2001827036  8904223819093        1.0         150\n",
      "2     2001827036  8904223819109        1.0         100\n",
      "3     2001827036  8904223818430        1.0         165\n",
      "4     2001827036  8904223819277        1.0         350\n"
     ]
    }
   ],
   "source": [
    "# Merge the Order Report and the SKU Report\n",
    "merge_order_sku = pd.merge(orderReport, skuMaster, on='SKU')\n",
    "# Display the top five rows in the merged report\n",
    "print(merge_order_sku.head())"
   ]
  },
  {
   "cell_type": "code",
   "execution_count": 7,
   "id": "c79131f6-c3c0-4614-8432-11159ce669eb",
   "metadata": {},
   "outputs": [
    {
     "name": "stdout",
     "output_type": "stream",
     "text": [
      "     Order ID            SKU  Order Qty  Weight (g)\n",
      "0  2001827036  8904223818706        1.0         127\n",
      "1  2001827036  8904223819093        1.0         150\n",
      "2  2001827036  8904223819109        1.0         100\n",
      "3  2001827036  8904223818430        1.0         165\n",
      "4  2001827036  8904223819277        1.0         350\n"
     ]
    }
   ],
   "source": [
    "# Rename the 'ExternalOrderNo' to 'Order Id' as in other datasets\n",
    "\n",
    "merge_order_sku = merge_order_sku.rename(columns = {'ExternOrderNo': 'Order ID'})\n",
    "print(merge_order_sku.head())"
   ]
  },
  {
   "cell_type": "code",
   "execution_count": 8,
   "id": "02537f5f-570a-4c33-ba46-580ad1a0f0b0",
   "metadata": {
    "scrolled": true
   },
   "outputs": [
    {
     "name": "stdout",
     "output_type": "stream",
     "text": [
      "     Order ID  Customer Pincode Type of Shipment  Warehouse Pincode Zone\n",
      "0  2001806232            507101  Forward charges             121003    d\n",
      "1  2001806273            486886  Forward charges             121003    d\n",
      "2  2001806408            532484  Forward charges             121003    d\n",
      "3  2001806458            143001  Forward charges             121003    b\n",
      "4  2001807012            515591  Forward charges             121003    d\n"
     ]
    }
   ],
   "source": [
    "# Map the courier invoice and pincode mapping based on Pincode\n",
    "# First drop duplicates from the pincode\n",
    "\n",
    "abc_courier = pinCode.drop_duplicates(subset=['Customer Pincode'])\n",
    "courier_abc = invoice[['Order ID', 'Customer Pincode', 'Type of Shipment']]\n",
    "pincodes = courier_abc.merge(abc_courier,on='Customer Pincode')\n",
    "print(pincodes.head())"
   ]
  },
  {
   "cell_type": "code",
   "execution_count": 9,
   "id": "87df2cb9-f7c3-4350-9c26-ab280ac8f340",
   "metadata": {},
   "outputs": [],
   "source": [
    "# Now we merge pincodes with the main dataframe\n",
    "merged_pincodes = merge_order_sku.merge(pincodes,on='Order ID')\n",
    "#print(merged_pincodes)"
   ]
  },
  {
   "cell_type": "code",
   "execution_count": 10,
   "id": "de82dc27-0150-457b-a204-1e7959c27010",
   "metadata": {},
   "outputs": [],
   "source": [
    "# Calculate the weight into kilograms from grams\n",
    "# 1kg = 1000g; The number of grams is divided by 1000\n",
    "merged_pincodes['Weights (Kgs)'] = merged_pincodes['Weight (g)'] / 1000\n",
    "\n",
    "# for i in merged_pincodes['Weight (g)']:\n",
    "#     print(merged_pincodes['Weights (Kgs)'].head())"
   ]
  },
  {
   "cell_type": "markdown",
   "id": "84451615-32f4-4a73-a840-d0f6d13b6559",
   "metadata": {},
   "source": [
    "##### Calculating Weight Clusters"
   ]
  },
  {
   "cell_type": "code",
   "execution_count": 11,
   "id": "25e4944d-c8a1-4a3f-b695-9f5e3dfcbbb9",
   "metadata": {},
   "outputs": [],
   "source": [
    "def weight_cluster(weight):\n",
    "    i = round(weight % 1, 1)\n",
    "    if i == 0.0:\n",
    "        return weight\n",
    "    elif i > 0.5:\n",
    "        return int(weight) + 1.0\n",
    "    else:\n",
    "        return int(weight) + 0.5\n",
    "\n",
    "merged_pincodes['Weight Cluster (KG)'] = merged_pincodes['Weights (Kgs)'].apply(weight_cluster)\n",
    "invoice['Weight Slab Charged by Courier Company']=(invoice['Charged Weight']).apply(weight_cluster)"
   ]
  },
  {
   "cell_type": "code",
   "execution_count": 19,
   "id": "c2e2a7b7-82e0-4fe6-a7e4-6d2ebadfa5b7",
   "metadata": {},
   "outputs": [
    {
     "name": "stdout",
     "output_type": "stream",
     "text": [
      "     Order ID            SKU  Order Qty  Weight (g)  Customer Pincode  \\\n",
      "0  2001827036  8904223818706        1.0         127            173213   \n",
      "1  2001827036  8904223819093        1.0         150            173213   \n",
      "\n",
      "  Type of Shipment  Warehouse Pincode Delivery Zone as per ABC  Weights (Kgs)  \\\n",
      "0  Forward charges             121003                        e          0.127   \n",
      "1  Forward charges             121003                        e          0.150   \n",
      "\n",
      "   Weight Cluster as per ABC  \n",
      "0                        0.5  \n",
      "1                        0.5  \n"
     ]
    }
   ],
   "source": [
    "# Renaming columns to create the desired datafram\n",
    "\n",
    "invoice = invoice.rename(columns={'Zone':'Delivery Zone Charged by the Courier Company'})\n",
    "merged_pincodes = merged_pincodes.rename(columns={'Zone':'Delivery Zone as per ABC'})\n",
    "merged_pincodes = merged_pincodes.rename(columns={'Weight Cluster (KG)':'Weight Cluster as per ABC'})\n",
    "print(merged_pincodes.head(2))"
   ]
  },
  {
   "cell_type": "markdown",
   "id": "921c74f0-f476-4c6a-a8d4-d4bce8cf4bf6",
   "metadata": {},
   "source": [
    "#### Calculating the Total Costs for Sending and Delivering a Package"
   ]
  },
  {
   "cell_type": "code",
   "execution_count": 27,
   "id": "37d4a6db-c7fe-48d3-ae68-9b3a2a629ea1",
   "metadata": {},
   "outputs": [
    {
     "name": "stdout",
     "output_type": "stream",
     "text": [
      "     Order ID            SKU  Order Qty  Weight (g)  Customer Pincode  \\\n",
      "0  2001827036  8904223818706        1.0         127            173213   \n",
      "1  2001827036  8904223819093        1.0         150            173213   \n",
      "2  2001827036  8904223819109        1.0         100            173213   \n",
      "3  2001827036  8904223818430        1.0         165            173213   \n",
      "4  2001827036  8904223819277        1.0         350            173213   \n",
      "\n",
      "  Type of Shipment  Warehouse Pincode Delivery Zone as per ABC  Weights (Kgs)  \\\n",
      "0  Forward charges             121003                        e          0.127   \n",
      "1  Forward charges             121003                        e          0.150   \n",
      "2  Forward charges             121003                        e          0.100   \n",
      "3  Forward charges             121003                        e          0.165   \n",
      "4  Forward charges             121003                        e          0.350   \n",
      "\n",
      "   Weight Cluster as per ABC  Expected Charge as per ABC  \n",
      "0                        0.5                        56.6  \n",
      "1                        0.5                        56.6  \n",
      "2                        0.5                        56.6  \n",
      "3                        0.5                        56.6  \n",
      "4                        0.5                        56.6  \n"
     ]
    }
   ],
   "source": [
    "# Expected Costs\n",
    "\n",
    "total_cost = []\n",
    "\n",
    "for _, row in merged_pincodes.iterrows():\n",
    "    fwd_category = 'fwd_' + row['Delivery Zone as per ABC']\n",
    "    fwd_fixed = courierRates.at[0, fwd_category + '_fixed']\n",
    "    fwd_additional= courierRates.at[0, fwd_category + '_additional']\n",
    "    rto_category = 'rto_' + row['Delivery Zone as per ABC']\n",
    "    rto_fixed = courierRates.at[0, rto_category + '_fixed']\n",
    "    rto_additional = courierRates.at[0, rto_category + '_additional']\n",
    "\n",
    "    weight_cluster = row['Weight Cluster as per ABC']\n",
    "    if row['Type of Shipment'] == 'Forward charges':\n",
    "        additional_weight = max(0, (weight_cluster - 0.5) / 0.5)\n",
    "        total_cost.append(fwd_fixed + additional_weight * fwd_additional)\n",
    "    elif row['Type of Shipment'] == 'Forward and RTO charges':\n",
    "        additional_weight = max(0, (weight_cluster - 0.5) / 0.5)\n",
    "        total_cost.append(fwd_fixed + additional_weight * (fwd_additional + rto_additional))\n",
    "    else:\n",
    "        total_cost.append(0)\n",
    "\n",
    "merged_pincodes[\"Expected Charge as per ABC\"] = total_cost # Save the cost to pincodes\n",
    "print(merged_pincodes.head())"
   ]
  },
  {
   "cell_type": "code",
   "execution_count": null,
   "id": "5b90d82e-c226-42d1-84a6-9b1e8e920a9e",
   "metadata": {},
   "outputs": [],
   "source": [
    "# we merge it with the courier invoice to display the final dataframe\n",
    "\n",
    "merged_output = merged_pincodes.merge(invoice, on=\"OrderID\")\n",
    "print(merged_output"
   ]
  }
 ],
 "metadata": {
  "kernelspec": {
   "display_name": "Python 3 (ipykernel)",
   "language": "python",
   "name": "python3"
  },
  "language_info": {
   "codemirror_mode": {
    "name": "ipython",
    "version": 3
   },
   "file_extension": ".py",
   "mimetype": "text/x-python",
   "name": "python",
   "nbconvert_exporter": "python",
   "pygments_lexer": "ipython3",
   "version": "3.12.3"
  }
 },
 "nbformat": 4,
 "nbformat_minor": 5
}
